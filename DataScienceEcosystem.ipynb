{
 "cells": [
  {
   "cell_type": "markdown",
   "id": "224fdd7e-c4f2-4524-b4d4-4bfe2ff1c1c5",
   "metadata": {},
   "source": [
    "(Ex. 2)"
   ]
  },
  {
   "cell_type": "markdown",
   "id": "e05b52f9-d6b4-4f23-8f4f-be8842910fd7",
   "metadata": {},
   "source": [
    "# Data Science Tools and Ecosystem  "
   ]
  },
  {
   "cell_type": "markdown",
   "id": "a601ef53-a3df-48ae-9b10-9e6131354b9b",
   "metadata": {},
   "source": [
    "(Ex. 3)"
   ]
  },
  {
   "cell_type": "markdown",
   "id": "8628e477-ca03-4223-b895-8e9c8cb9b5ed",
   "metadata": {},
   "source": [
    "In this notebook, Data Science Tools and Ecosystem will be summarized."
   ]
  },
  {
   "cell_type": "markdown",
   "id": "24cbf6d2-1b79-4f8c-90ab-6f311b4441cb",
   "metadata": {},
   "source": [
    "(Ex. 10)"
   ]
  },
  {
   "cell_type": "markdown",
   "id": "753deaae-1526-4543-8861-fa62a98c327b",
   "metadata": {},
   "source": [
    "**Objectives:** \n",
    "* List popular languages for Data Science.\n",
    "* Name several libraries commonly used by Data Scientists.\n",
    "* Make a table listing a few common tools of Data Science.\n",
    "* Give examples showing how to evaluate various arithmetic expressions."
   ]
  },
  {
   "cell_type": "markdown",
   "id": "107b1734-6583-4180-8e0f-9c8195fd4a86",
   "metadata": {},
   "source": [
    "(Ex. 4)"
   ]
  },
  {
   "cell_type": "markdown",
   "id": "749e70c4-6ab2-4987-8edc-b53a8bf01d1e",
   "metadata": {},
   "source": [
    "Some of the popular languages that Data Scientists use are:\n",
    "1. Python\n",
    "2. R\n",
    "3. SQL\n",
    "4. Java"
   ]
  },
  {
   "cell_type": "markdown",
   "id": "bd2d1997-e20b-4180-8610-7e1b9bdf1bd4",
   "metadata": {},
   "source": [
    "(Ex.5)"
   ]
  },
  {
   "cell_type": "markdown",
   "id": "b35a2ed7-c026-4d6a-9698-b2175d909c8a",
   "metadata": {},
   "source": [
    "Some of the commonly used libraries used by Data Scientists include:\n",
    "1. Numpy\n",
    "2. Pandas\n",
    "3. Matplotlib\n",
    "4. Plotly\n",
    "5. Scikit-learn\n",
    "6. Seaborn"
   ]
  },
  {
   "cell_type": "markdown",
   "id": "c3aef1d7-ba12-4007-b083-7b8c0d2e6083",
   "metadata": {},
   "source": [
    "(Ex.6)"
   ]
  },
  {
   "cell_type": "markdown",
   "id": "9a9f9e25-6d7e-4b9e-ade1-fe84282dc02a",
   "metadata": {},
   "source": [
    "|Data Science Tools|\n",
    "|------------------|\n",
    "|Jupyter Notebook|\n",
    "|Visual Studio Code|\n",
    "|RStudio|"
   ]
  },
  {
   "cell_type": "markdown",
   "id": "93eb136f-c1da-4304-a1b0-8ea19946a0ab",
   "metadata": {},
   "source": [
    "(Ex. 7)"
   ]
  },
  {
   "cell_type": "markdown",
   "id": "2f58cf2d-7b23-44ce-b4b7-976bf3a88b93",
   "metadata": {},
   "source": [
    "### Below are a few examples of evaluating arithmetic expressions in Python"
   ]
  },
  {
   "cell_type": "markdown",
   "id": "f920950d-8832-48b6-bded-46877c20861a",
   "metadata": {},
   "source": [
    "(Ex.8)"
   ]
  },
  {
   "cell_type": "code",
   "execution_count": 1,
   "id": "8972a53a-d8d1-47c9-b3e9-fc234d081b69",
   "metadata": {},
   "outputs": [
    {
     "data": {
      "text/plain": [
       "17"
      ]
     },
     "execution_count": 1,
     "metadata": {},
     "output_type": "execute_result"
    }
   ],
   "source": [
    "#This is a simple arithmetic expression to mutiply, then add integers.\n",
    "(3*4)+5"
   ]
  },
  {
   "cell_type": "markdown",
   "id": "7ccb5f24-cf58-43a2-ac0d-6c04766d1ad0",
   "metadata": {},
   "source": [
    "(Ex.9)"
   ]
  },
  {
   "cell_type": "markdown",
   "id": "d4061970-e196-42cf-bec4-fbbb00aca434",
   "metadata": {},
   "source": [
    "This will convert 200 minutes to hours and remainder minutes using integer division and the modulo function."
   ]
  },
  {
   "cell_type": "code",
   "execution_count": 2,
   "id": "d630e697-1253-4468-afda-a07dd9357149",
   "metadata": {},
   "outputs": [
    {
     "name": "stdout",
     "output_type": "stream",
     "text": [
      "200 minutes = 3 hours and 20 minutes\n"
     ]
    }
   ],
   "source": [
    "minutes = 200\n",
    "hours = minutes // 60       # integer division gives whole hours\n",
    "remaining_minutes = minutes % 60  # modulo gives leftover minutes\n",
    "\n",
    "print(f\"{minutes} minutes = {hours} hours and {remaining_minutes} minutes\")\n"
   ]
  },
  {
   "cell_type": "markdown",
   "id": "7e894a1b-3457-4bd6-8dd2-df958dedb0c2",
   "metadata": {},
   "source": [
    "(Ex. 11)"
   ]
  },
  {
   "cell_type": "markdown",
   "id": "75eac4c4-0704-4fa2-8c77-cfd2e644779a",
   "metadata": {},
   "source": [
    "## Author\n",
    "Bryce Hall"
   ]
  },
  {
   "cell_type": "code",
   "execution_count": null,
   "id": "424a7eac-a376-41e2-87f5-256b5f52717f",
   "metadata": {},
   "outputs": [],
   "source": []
  }
 ],
 "metadata": {
  "kernelspec": {
   "display_name": "Python 3 (ipykernel)",
   "language": "python",
   "name": "python3"
  },
  "language_info": {
   "codemirror_mode": {
    "name": "ipython",
    "version": 3
   },
   "file_extension": ".py",
   "mimetype": "text/x-python",
   "name": "python",
   "nbconvert_exporter": "python",
   "pygments_lexer": "ipython3",
   "version": "3.13.4"
  }
 },
 "nbformat": 4,
 "nbformat_minor": 5
}
